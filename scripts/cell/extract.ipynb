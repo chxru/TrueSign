{
 "cells": [
  {
   "cell_type": "code",
   "execution_count": null,
   "metadata": {},
   "outputs": [],
   "source": [
    "import cv2\n",
    "import numpy as np\n",
    "import matplotlib.pyplot as plt\n",
    "import pandas as pd"
   ]
  },
  {
   "cell_type": "code",
   "execution_count": null,
   "metadata": {},
   "outputs": [],
   "source": [
    "img = cv2.imread('images/corect.png', 0) \n",
    "(thresh, img_bin) = cv2.threshold(img, 128, 255,cv2.THRESH_BINARY|cv2.THRESH_OTSU) #perform both global and otsu thresholding\n",
    "\n",
    "img_bin = 255-img_bin \n",
    "# plt.imshow(img_bin)"
   ]
  },
  {
   "cell_type": "code",
   "execution_count": null,
   "metadata": {},
   "outputs": [],
   "source": [
    "# need morphological operations (based on shape=RECT) to detect boxes\n",
    "kernel_length = np.array(img).shape[1]//80 # Defining a kernel length [originaly 80]\n",
    "verticle_kernel = cv2.getStructuringElement(cv2.MORPH_RECT, (1, kernel_length)) #detect all the verticle lines - EROSION\n",
    "hori_kernel = cv2.getStructuringElement(cv2.MORPH_RECT, (kernel_length, 1)) #to detect all the horizontal lines - DILATION\n",
    "kernel = cv2.getStructuringElement(cv2.MORPH_RECT, (3, 3) )#cv2.getStructuringElement(shape,(num_of_columns,num_of_rows))\n",
    "\n",
    "# Morphological operation to detect vertical lines from an image\n",
    "img_temp1 = cv2.erode(img_bin, verticle_kernel, iterations=3)\n",
    "verticle_lines_img = cv2.dilate(img_temp1, verticle_kernel, iterations=3)\n",
    "# plt.imshow(verticle_lines_img)\n",
    "\n",
    "# Morphological operation to detect horizontal lines from an image\n",
    "img_temp2 = cv2.erode(img_bin, hori_kernel, iterations=3)\n",
    "horizontal_lines_img = cv2.dilate(img_temp2, hori_kernel, iterations=3)\n",
    "# plt.imshow(horizontal_lines_img)\n",
    "\n",
    "# add these two images = only boxes \n",
    "# no info = no noise\n",
    "\n",
    "# Weighting parameters, this will decide the quantity of an image to be added to make a new image.\n",
    "alpha = 0.5\n",
    "beta = 1.0 - alpha\n",
    "# This function helps to add two image with specific weight parameter to get a third image as summation of two image.\n",
    "img_final_bin = cv2.addWeighted(verticle_lines_img, alpha, horizontal_lines_img, beta, 0.0)\n",
    "img_final_bin = cv2.erode(~img_final_bin, kernel, iterations=2)\n",
    "(thresh, img_final_bin) = cv2.threshold(img_final_bin, 128,255, cv2.THRESH_BINARY | cv2.THRESH_OTSU)\n",
    "# plt.imshow(img_final_bin)\n"
   ]
  },
  {
   "cell_type": "code",
   "execution_count": null,
   "metadata": {},
   "outputs": [],
   "source": [
    "def sort_contours(cnts, method=\"left-to-right\"):\n",
    "\t# initialize the reverse flag and sort index\n",
    "\treverse = False\n",
    "\ti = 0\n",
    "\t# handle if we need to sort in reverse\n",
    "\tif method == \"right-to-left\" or method == \"bottom-to-top\":\n",
    "\t\treverse = True\n",
    "\t# handle if we are sorting against the y-coordinate rather than\n",
    "\t# the x-coordinate of the bounding box\n",
    "\tif method == \"top-to-bottom\" or method == \"bottom-to-top\":\n",
    "\t\ti = 1\n",
    "\t# construct the list of bounding boxes and sort them from top to\n",
    "\t# bottom\n",
    "\tboundingBoxes = [cv2.boundingRect(c) for c in cnts]\n",
    "\t(cnts, boundingBoxes) = zip(*sorted(zip(cnts, boundingBoxes),\n",
    "\t\tkey=lambda b:b[1][i], reverse=reverse))\n",
    "\t# return the list of sorted contours and bounding boxes\n",
    "\treturn (cnts, boundingBoxes)"
   ]
  },
  {
   "cell_type": "code",
   "execution_count": null,
   "metadata": {},
   "outputs": [],
   "source": [
    "contours, hierarchy = cv2.findContours(img_final_bin, cv2.RETR_TREE, cv2.CHAIN_APPROX_SIMPLE)\n",
    "(contours, boundingBoxes) = sort_contours(contours, method=\"left-to-right\")\n",
    "(contours, boundingBoxes) = sort_contours(contours, method=\"top-to-bottom\")\n",
    "\n",
    "# print(boundingBoxes)"
   ]
  },
  {
   "cell_type": "code",
   "execution_count": null,
   "metadata": {},
   "outputs": [],
   "source": [
    "def get_closest_63_indices(lst):\n",
    "    sorted_lst = sorted(enumerate(lst), key=lambda x: x[1])\n",
    "    best_diff = float('inf')\n",
    "    best_slice = []\n",
    "    for i in range(len(sorted_lst)-62):\n",
    "        slice_diff = sorted_lst[i+62][1] - sorted_lst[i][1]\n",
    "        if slice_diff < best_diff:\n",
    "            best_diff = slice_diff\n",
    "            best_slice = sorted_lst[i:i+63]\n",
    "    return sorted([x[0] for x in best_slice])\n",
    "\n",
    "def get_area(contours):\n",
    "    x, y, w, h = cv2.boundingRect(contours)\n",
    "    a= cv2.contourArea(contours)\n",
    "    area = np.array(a).astype(int).tolist()\n",
    "    return w, y, w, h, area\n",
    "\n",
    "def get_bounding_rects(indices, bounding_rects):\n",
    "    return [bounding_rects[i] for i in indices]"
   ]
  },
  {
   "cell_type": "code",
   "execution_count": null,
   "metadata": {},
   "outputs": [],
   "source": [
    "areaList =[]\n",
    "boxes=[]\n",
    "\n",
    "for c in contours:\n",
    "    gblist = get_area(c)\n",
    "    areaList.append(gblist[4])\n",
    "    dList = get_closest_63_indices(areaList)\n",
    "ggList = get_bounding_rects(dList, boundingBoxes)\n",
    "# print(ggList)"
   ]
  },
  {
   "cell_type": "code",
   "execution_count": null,
   "metadata": {},
   "outputs": [],
   "source": [
    "for x, y, w, h in ggList:\n",
    "    # print(\"x:\", x, \"y:\", y, \"w:\", w, \"h:\", h)\n",
    "    image = cv2.rectangle(img,(x,y),(x+w,y+h),(0,255,0),2)\n",
    "    boxes.append([x,y,w,h])\n",
    "plotting = plt.imshow(image,cmap='gray')\n",
    "plt.title(\"Identified contours\")\n",
    "plt.show()"
   ]
  },
  {
   "cell_type": "code",
   "execution_count": null,
   "metadata": {},
   "outputs": [],
   "source": [
    "# idx =0\n",
    "# for x, y, w, h in ggList:\n",
    "#     idx += 1\n",
    "#     new_img = img[y:y+h, x:x+w]\n",
    "#     cv2.imwrite(str(idx) + '.png', new_img)"
   ]
  }
 ],
 "metadata": {
  "language_info": {
   "name": "python"
  },
  "orig_nbformat": 4
 },
 "nbformat": 4,
 "nbformat_minor": 2
}
