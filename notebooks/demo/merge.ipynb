{
 "cells": [
  {
   "cell_type": "code",
   "execution_count": 6,
   "metadata": {},
   "outputs": [],
   "source": [
    "import cv2\n",
    "\n",
    "base_path = \"../../tmp/processed/verification/\"\n",
    "\n",
    "window = ((100, 200), (900, 200), (900, 400), (100, 400))\n",
    "\n",
    "\n",
    "def crop(img, window):\n",
    "    return img[window[0][1] : window[2][1], window[0][0] : window[1][0]]"
   ]
  },
  {
   "cell_type": "code",
   "execution_count": 11,
   "metadata": {},
   "outputs": [],
   "source": [
    "import os\n",
    "import matplotlib.pyplot as plt\n",
    "\n",
    "\n",
    "for file in os.listdir(base_path):\n",
    "    # show image\n",
    "    img = cv2.imread(base_path + file)\n",
    "    img = crop(img, window)\n",
    "\n",
    "    # save image\n",
    "    cv2.imwrite(base_path + file, img)"
   ]
  }
 ],
 "metadata": {
  "kernelspec": {
   "display_name": ".venv",
   "language": "python",
   "name": "python3"
  },
  "language_info": {
   "codemirror_mode": {
    "name": "ipython",
    "version": 3
   },
   "file_extension": ".py",
   "mimetype": "text/x-python",
   "name": "python",
   "nbconvert_exporter": "python",
   "pygments_lexer": "ipython3",
   "version": "3.9.13"
  },
  "orig_nbformat": 4
 },
 "nbformat": 4,
 "nbformat_minor": 2
}
